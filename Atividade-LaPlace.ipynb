{
 "cells": [
  {
   "cell_type": "markdown",
   "id": "e19cf8c4-8cd3-4910-bf7c-4018aa15bb78",
   "metadata": {},
   "source": [
    "## Calculando determinante pelo Teorema de LaPlace no Python"
   ]
  },
  {
   "cell_type": "markdown",
   "id": "2aa78d49-bfc9-423b-bb02-d846d50f35bd",
   "metadata": {},
   "source": [
    "### Tarefa\n",
    "\n",
    "**Dada uma matriz de ordem n, calcular o determinante pelo Teorema de Laplace no Python.**"
   ]
  },
  {
   "cell_type": "markdown",
   "id": "8b4c52e3-8ee2-4e0a-97ef-c1cd06c1a9c4",
   "metadata": {},
   "source": [
    "#### Detalhes\n",
    " - Construa quantos funções forem necessárias.\n",
    " - Verifique se a matriz dada é quadrada.\n",
    " - Para o cálculo do determinante de ordem n-1 pode utilizar a função criada em sala.\n",
    " - Bonificação para soluções recursivas (faça o item anterior primeiro, depois uma versão recursiva). Este item **não** é obrigatório.\n",
    " - Grupos de 5 ou 6 integrantes.\n",
    " - Utilize **somente** conteúdos de Python ou de matemática vistos em sala de aula (exceto recursividade).\n",
    " - Não copie pronto da internet/ChatGPT e afins (cópias parciais ou totais zerarão a atividade)\n",
    "   "
   ]
  },
  {
   "cell_type": "markdown",
   "id": "0e9d2ce2-f716-4ad5-aefa-39ed2a02eae7",
   "metadata": {},
   "source": [
    "#### Prazo\n",
    " - Duas semanas (09 de setembro de 2024)"
   ]
  },
  {
   "cell_type": "markdown",
   "id": "4b78286b-5957-4216-b4a8-334ad3f13d69",
   "metadata": {},
   "source": [
    "#### O que precisa entregar\n",
    " - Um notebook (arquivo com extensão ipynb) com todo o código desenvolvido/utilizado.\n",
    " - Uma apresentação (power point, beamer, prezi, etc) explicando o que código faz. Deverá ter um link para o notebook na apresentação."
   ]
  },
  {
   "cell_type": "markdown",
   "id": "ac4342f1",
   "metadata": {},
   "source": [
    "Código Para a Entrega:"
   ]
  },
  {
   "cell_type": "code",
   "execution_count": null,
   "id": "934a781c",
   "metadata": {},
   "outputs": [],
   "source": [
    "#Funcao Mostra Matriz (Feita em Sala)\n",
    "def mostra_matriz(mat):\n",
    "    if mat == None:\n",
    "        print('Matriz inexistente')\n",
    "    else:\n",
    "        lin = len(mat)\n",
    "        col = len(mat[0])\n",
    "        \n",
    "        for i in range(lin):\n",
    "            for j in range(col):\n",
    "                print(f'{mat[i][j]:3d}', end=' ')\n",
    "            print()"
   ]
  },
  {
   "cell_type": "code",
   "execution_count": null,
   "id": "9cef6982-d028-474b-a8c9-7a451090987a",
   "metadata": {},
   "outputs": [],
   "source": []
  },
  {
   "cell_type": "code",
   "execution_count": null,
   "id": "484624c1-e62c-4053-baed-e5c54628b997",
   "metadata": {},
   "outputs": [],
   "source": []
  },
  {
   "cell_type": "code",
   "execution_count": null,
   "id": "aef29c68-a362-41e7-82ff-2a7aeaf231b4",
   "metadata": {},
   "outputs": [],
   "source": []
  },
  {
   "cell_type": "code",
   "execution_count": null,
   "id": "13d3996c",
   "metadata": {},
   "outputs": [],
   "source": []
  }
 ],
 "metadata": {
  "kernelspec": {
   "display_name": "Python 3 (ipykernel)",
   "language": "python",
   "name": "python3"
  },
  "language_info": {
   "codemirror_mode": {
    "name": "ipython",
    "version": 3
   },
   "file_extension": ".py",
   "mimetype": "text/x-python",
   "name": "python",
   "nbconvert_exporter": "python",
   "pygments_lexer": "ipython3",
   "version": "3.11.7"
  }
 },
 "nbformat": 4,
 "nbformat_minor": 5
}
