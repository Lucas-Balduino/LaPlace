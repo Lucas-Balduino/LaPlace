{
 "cells": [
  {
   "cell_type": "markdown",
   "id": "e19cf8c4-8cd3-4910-bf7c-4018aa15bb78",
   "metadata": {},
   "source": [
    "## Calculando determinante pelo Teorema de LaPlace no Python"
   ]
  },
  {
   "cell_type": "markdown",
   "id": "2aa78d49-bfc9-423b-bb02-d846d50f35bd",
   "metadata": {},
   "source": [
    "### Tarefa\n",
    "\n",
    "**Dada uma matriz de ordem n, calcular o determinante pelo Teorema de Laplace no Python.**"
   ]
  },
  {
   "cell_type": "markdown",
   "id": "8b4c52e3-8ee2-4e0a-97ef-c1cd06c1a9c4",
   "metadata": {},
   "source": [
    "#### Detalhes\n",
    " - Construa quantos funções forem necessárias.\n",
    " - Verifique se a matriz dada é quadrada.\n",
    " - Para o cálculo do determinante de ordem n-1 pode utilizar a função criada em sala.\n",
    " - Bonificação para soluções recursivas (faça o item anterior primeiro, depois uma versão recursiva). Este item **não** é obrigatório.\n",
    " - Grupos de 5 ou 6 integrantes.\n",
    " - Utilize **somente** conteúdos de Python ou de matemática vistos em sala de aula (exceto recursividade).\n",
    " - Não copie pronto da internet/ChatGPT e afins (cópias parciais ou totais zerarão a atividade)\n",
    "   "
   ]
  },
  {
   "cell_type": "markdown",
   "id": "0e9d2ce2-f716-4ad5-aefa-39ed2a02eae7",
   "metadata": {},
   "source": [
    "#### Prazo\n",
    " - Duas semanas (09 de setembro de 2024)"
   ]
  },
  {
   "cell_type": "markdown",
   "id": "4b78286b-5957-4216-b4a8-334ad3f13d69",
   "metadata": {},
   "source": [
    "#### O que precisa entregar\n",
    " - Um notebook (arquivo com extensão ipynb) com todo o código desenvolvido/utilizado.\n",
    " - Uma apresentação (power point, beamer, prezi, etc) explicando o que código faz. Deverá ter um link para o notebook na apresentação."
   ]
  },
  {
   "cell_type": "markdown",
   "id": "ac4342f1",
   "metadata": {},
   "source": [
    "Código Para a Entrega:"
   ]
  },
  {
   "cell_type": "code",
   "execution_count": 48,
   "id": "e645e711",
   "metadata": {},
   "outputs": [],
   "source": [
    "import random"
   ]
  },
  {
   "cell_type": "code",
   "execution_count": 47,
   "id": "33c47039",
   "metadata": {},
   "outputs": [],
   "source": [
    "def criaMatriz():\n",
    "  matriz = []\n",
    "\n",
    "  n = int(input(\"Digite o tamanho da matriz (n x n): \"))\n",
    "\n",
    "  escolha = int(input(\"Escolha:\\n 1- Matriz de numeros da sua escolha\\n 2- Matriz com numeros Aleatórios\"))\n",
    "  for i in range(n):\n",
    "    # Array temporário para armazenar valores de cada linha\n",
    "    linha = []\n",
    "\n",
    "    if escolha == 1 :\n",
    "        for j in range(n):\n",
    "            linha.append(float(input(f\"Digite o número do indice {i} {j}: \")))\n",
    "    else :\n",
    "        for j in range(n):\n",
    "            linha.append(random.randint(1,9))\n",
    "    \n",
    "    # Adiciona a linha scaneada na matriz\n",
    "    matriz.append(linha)\n",
    "\n",
    "  return matriz"
   ]
  },
  {
   "cell_type": "code",
   "execution_count": 46,
   "id": "934a781c",
   "metadata": {},
   "outputs": [],
   "source": [
    "#Funcao Mostra Matriz (Feita em Sala)\n",
    "def mostraMatriz(mat):\n",
    "    if mat == None:\n",
    "        print('Matriz inexistente')\n",
    "    else:\n",
    "        lin = len(mat)\n",
    "        col = len(mat[0])\n",
    "        \n",
    "        for i in range(lin):\n",
    "            for j in range(col):\n",
    "                print(f'[{mat[i][j]}]', end=' ')\n",
    "            print()"
   ]
  },
  {
   "cell_type": "code",
   "execution_count": 45,
   "id": "9cef6982-d028-474b-a8c9-7a451090987a",
   "metadata": {},
   "outputs": [],
   "source": [
    "def matrizQuadrada(matriz):\n",
    "    if len(matriz) == len(matriz[0]): \n",
    "        return True\n",
    "    return False"
   ]
  },
  {
   "cell_type": "markdown",
   "id": "d7c57aa7",
   "metadata": {},
   "source": [
    "### Função que gera SubMatrizes\n",
    "1. Utilizada para gerar as submatrizes da Matriz original para o calculo de suas determinantes."
   ]
  },
  {
   "cell_type": "code",
   "execution_count": 58,
   "id": "484624c1-e62c-4053-baed-e5c54628b997",
   "metadata": {},
   "outputs": [],
   "source": [
    "def reducaoDeMatriz(matriz, indexLinha):\n",
    "    novaMatriz = []\n",
    "\n",
    "    for i in range(len(matriz)):\n",
    "        if i != 0 : \n",
    "            linhaNovaMatriz = []\n",
    "            for j in range(len(matriz)):\n",
    "                if j != indexLinha : linhaNovaMatriz.append(matriz[i][j])\n",
    "            novaMatriz.append(linhaNovaMatriz)\n",
    "    return novaMatriz"
   ]
  },
  {
   "cell_type": "markdown",
   "id": "0d9c0889",
   "metadata": {},
   "source": [
    "### Função Troca de Linhas\n",
    "1. Função Criada em sala que auxilia a função de calculo de determinantes."
   ]
  },
  {
   "cell_type": "code",
   "execution_count": 43,
   "id": "35e34dd0",
   "metadata": {},
   "outputs": [],
   "source": [
    "def troca_linhas(A, k):\n",
    "    lin = len(A)\n",
    "    i = k + 1\n",
    "    while i < lin:\n",
    "        if A[i][k] != 0:\n",
    "            for j in range(k, lin):\n",
    "                A[k][j], A[i][j] = A[i][j], A[k][j]\n",
    "            return False\n",
    "        i = i + 1\n",
    "    else:\n",
    "        return True"
   ]
  },
  {
   "cell_type": "markdown",
   "id": "38536fac",
   "metadata": {},
   "source": [
    "### Função de Calculo de Determinantes\n",
    "1. Função Criada em sala que Calcula o determinante de qualquer matriz quadrada de ordem n\n",
    "2. Utilizada no código para Calcular os determinantes das submatrizes de ordem n - 1"
   ]
  },
  {
   "cell_type": "code",
   "execution_count": 59,
   "id": "e168b31f",
   "metadata": {},
   "outputs": [],
   "source": [
    "def determinante(matriz):\n",
    "    lin, col = len(matriz), len(matriz[0])\n",
    "    \n",
    "    if lin != col:\n",
    "        return 'Não existe determinante de matriz retangular!!'\n",
    "\n",
    "    num_de_troca_de_linhas = 0\n",
    "    for k in range(lin - 1): # Andando na diagonal\n",
    "        for i in range(k+1, lin): # Andando as linhas abaixo da diagonal\n",
    "            if matriz[k][k] == 0: # Verifica se o pivô é zero\n",
    "                num_de_troca_de_linhas += 1\n",
    "                if troca_linhas(matriz, k):\n",
    "                    return 0\n",
    "            m = -matriz[i][k] / matriz[k][k]\n",
    "            for j in range(k, col): # Andando nas linhas que estão sendo atualizadas\n",
    "                matriz[i][j] = matriz[k][j]*m + matriz[i][j]\n",
    "    resultado = 1\n",
    "    for k in range(lin): # Multiplicando os elementos da diagonal principal (da matriz triagular)\n",
    "        resultado = resultado * matriz[k][k] * (-1)**num_de_troca_de_linhas\n",
    "        \n",
    "    return resultado\n",
    "        \n"
   ]
  },
  {
   "cell_type": "markdown",
   "id": "088493ce",
   "metadata": {},
   "source": [
    "## Função LaPlace\n",
    "\n",
    "1. **Executa `criaMatriz`:**  \n",
    "   Cria a matriz principal que será utilizada para o cálculo.\n",
    "\n",
    "2. **Mostra a matriz criada:**  \n",
    "   Exibe a matriz gerada para o usuário.\n",
    "\n",
    "3. **Gera os cofatores das submatrizes:**  \n",
    "   Calcula os cofatores das submatrizes resultantes após a remoção de uma coluna.\n",
    "\n",
    "4. **Envia a matriz original com a coluna a ser retirada na redução de matrizes:**  \n",
    "   Passa a matriz original para o próximo processo, indicando qual coluna será removida para gerar as submatrizes.\n",
    "\n",
    "5. **Mostra as submatrizes criadas com seus respectivos determinantes:**  \n",
    "   Exibe as submatrizes geradas e calcula o determinante de cada uma.\n",
    "\n",
    "6. **Calcula o determinante da matriz original:**  \n",
    "   Utiliza os determinantes das submatrizes e os cofatores para calcular o determinante da matriz original.\n",
    "\n",
    "7. **Printa o determinante da matriz original:**  \n",
    "   Exibe o determinante final calculado da matriz original.\n"
   ]
  },
  {
   "cell_type": "code",
   "execution_count": 69,
   "id": "7cb7c388",
   "metadata": {},
   "outputs": [],
   "source": [
    "def LaPlace():\n",
    "    det = 0\n",
    "    matriz = criaMatriz()\n",
    "    print(\"Matriz Gerada:\")\n",
    "    mostraMatriz(matriz)\n",
    "    print()\n",
    "    print(\"Sub Matrizes Geradas:\")\n",
    "    for i in range(len(matriz)):\n",
    "        if i % 2 == 0: \n",
    "            cofator = 1\n",
    "        else: \n",
    "            cofator = -1\n",
    "        mostraMatriz(reducaoDeMatriz(matriz, i))\n",
    "        print(\"Determinante \",determinante(reducaoDeMatriz(matriz, i)))\n",
    "        det += cofator * determinante(reducaoDeMatriz(matriz, i))\n",
    "        print()\n",
    "    \n",
    "    print(\"Determinante da Matriz Original:\",det)"
   ]
  },
  {
   "cell_type": "markdown",
   "id": "33bf577a",
   "metadata": {},
   "source": [
    "## Execução Do Código:"
   ]
  },
  {
   "cell_type": "code",
   "execution_count": 72,
   "id": "39462f0c",
   "metadata": {},
   "outputs": [
    {
     "name": "stdout",
     "output_type": "stream",
     "text": [
      "Matriz Gerada:\n",
      "[9] [8] [8] [6] [8] \n",
      "[5] [9] [4] [3] [8] \n",
      "[5] [7] [3] [6] [9] \n",
      "[5] [8] [5] [6] [8] \n",
      "[4] [4] [3] [3] [6] \n",
      "\n",
      "Sub Matrizes Geradas:\n",
      "[9] [4] [3] [8] \n",
      "[7] [3] [6] [9] \n",
      "[8] [5] [6] [8] \n",
      "[4] [3] [3] [6] \n",
      "Determinante  -128.99999999999991\n",
      "\n",
      "[5] [4] [3] [8] \n",
      "[5] [3] [6] [9] \n",
      "[5] [5] [6] [8] \n",
      "[4] [3] [3] [6] \n",
      "Determinante  18.000000000000014\n",
      "\n",
      "[5] [9] [3] [8] \n",
      "[5] [7] [6] [9] \n",
      "[5] [8] [6] [8] \n",
      "[4] [4] [3] [6] \n",
      "Determinante  51.000000000000014\n",
      "\n",
      "[5] [9] [4] [8] \n",
      "[5] [7] [3] [9] \n",
      "[5] [8] [5] [8] \n",
      "[4] [4] [3] [6] \n",
      "Determinante  23.000000000000007\n",
      "\n",
      "[5] [9] [4] [3] \n",
      "[5] [7] [3] [6] \n",
      "[5] [8] [5] [6] \n",
      "[4] [4] [3] [3] \n",
      "Determinante  84.00000000000003\n",
      "\n",
      "Determinante da Matriz Original: -34.999999999999915\n"
     ]
    }
   ],
   "source": [
    "LaPlace()"
   ]
  }
 ],
 "metadata": {
  "kernelspec": {
   "display_name": "Python 3 (ipykernel)",
   "language": "python",
   "name": "python3"
  },
  "language_info": {
   "codemirror_mode": {
    "name": "ipython",
    "version": 3
   },
   "file_extension": ".py",
   "mimetype": "text/x-python",
   "name": "python",
   "nbconvert_exporter": "python",
   "pygments_lexer": "ipython3",
   "version": "3.11.9"
  }
 },
 "nbformat": 4,
 "nbformat_minor": 5
}
