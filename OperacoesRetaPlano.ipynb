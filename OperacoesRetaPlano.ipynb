{
 "cells": [
  {
   "cell_type": "code",
   "execution_count": 2,
   "metadata": {
    "id": "tXk5qWWgXjLg"
   },
   "outputs": [],
   "source": [
    "def vetor(A, B):\n",
    "  return [b - a for a, b in zip(A, B)]\n",
    "\n",
    "def prod_escalar(A, B):\n",
    "  return sum([a * b for a, b in zip(A, B)])\n",
    "\n",
    "def prod_vetorial(A, B):\n",
    "  return [A[1] * B[2] - A[2] * B[1],\n",
    "          A[2] * B[0] - A[0] * B[2],\n",
    "          A[0] * B[1] - A[1] * B[0]]\n",
    "\n",
    "def modulo(A, exp = 1):\n",
    "  return sum([a ** 2 for a in A]) ** (0.5 * exp)\n",
    "\n",
    "def mostra_reta(A, B):\n",
    "  v = vetor(A, B)\n",
    "  print(f'r(t) =  {A} + t{tuple(v)}')\n",
    "\n",
    "def reta(t, A, B):\n",
    "  v = vetor(A, B)\n",
    "  return [a + t * b for a, b in zip(A, v)]\n",
    "\n",
    "def mostra_plano(A, B, C):\n",
    "  u = vetor(A, B)\n",
    "  v = vetor(C, B)\n",
    "  normal = prod_vetorial(u, v)\n",
    "  k = prod_escalar(normal, A)\n",
    "  a, b, c = normal\n",
    "  sinal_b = '-' if b < 0 else '+'\n",
    "  sinal_c = '-' if c < 0 else '+'\n",
    "  print(f'{a}x {sinal_b} {abs(b)}y {sinal_c} {abs(c)}z = {k}')\n"
   ]
  },
  {
   "cell_type": "code",
   "execution_count": 3,
   "metadata": {
    "id": "FYK-hXOhdqfn"
   },
   "outputs": [],
   "source": [
    "def esta_no_plano(A, B, C, D):\n",
    "  u = vetor(A, B)\n",
    "  v = vetor(C, B)\n",
    "  normal = prod_vetorial(u, v)\n",
    "  k = prod_escalar(normal, A)\n",
    "  soma = prod_escalar(normal, D)\n",
    "  return soma == k\n",
    "\n",
    "def esta_no_plano_eq_geral(a, b, c, k, D):\n",
    "  soma = prod_escalar([a, b, c], D)\n",
    "  return soma == k\n",
    "\n",
    "def projecao(u, v):\n",
    "  escalar =  prod_escalar(u, v) / (modulo(v) ** 2)\n",
    "  return [a * escalar for a in v]\n",
    "\n",
    "def distancia_ponto_plano(A, B, C, D):\n",
    "  u = vetor(A, B)\n",
    "  v = vetor(C, B)\n",
    "  w = vetor(A, D)\n",
    "  normal = prod_vetorial(u, v)\n",
    "  return modulo(projecao(w, normal))\n",
    "\n",
    "def soma_vetor(u, v, sinal='+'):\n",
    "  if sinal == '+':\n",
    "    return [a + b for a, b in zip(u, v)]\n",
    "  elif sinal == '-':\n",
    "    return [a - b for a, b in zip(u, v)]\n",
    "\n",
    "\n",
    "def ponto_de_projecao(A, B, C, D):\n",
    "  u = vetor(A, B)\n",
    "  v = vetor(C, B)\n",
    "  w = vetor(A, D)\n",
    "  normal = prod_vetorial(u, v)\n",
    "  m = projecao(w, normal)\n",
    "  s = soma_vetor(w, m, '-')\n",
    "  return soma_vetor(A, s)\n"
   ]
  },
  {
   "cell_type": "code",
   "execution_count": 9,
   "metadata": {},
   "outputs": [
    {
     "data": {
      "text/plain": [
       "(1.961161351381841, 1.9611613513818404)"
      ]
     },
     "execution_count": 9,
     "metadata": {},
     "output_type": "execute_result"
    }
   ],
   "source": [
    "import math \n",
    "distancia_ponto_plano((0,0,5/4),(1,0, 1/2),(0,1,3/2),(1,0,-2)), 10/math.sqrt(26)"
   ]
  },
  {
   "cell_type": "code",
   "execution_count": 5,
   "metadata": {
    "id": "ogB1JxfXTEHj"
   },
   "outputs": [],
   "source": [
    "def esta_na_reta(A, B, C):\n",
    "  v = vetor(A, B)\n",
    "  w = vetor(A, C)\n",
    "  return modulo(prod_vetorial(v, w)) == 0\n",
    "\n",
    "def distancia_ponto_reta_pontos(A, B, E):\n",
    "  w = vetor(A, E)\n",
    "  v = vetor(A, B)\n",
    "  return (modulo(w)**2 - modulo(projecao(w, v))**2)**(1/2)\n",
    "\n",
    "def distancia_ponto_reta_vetor(v, A, E):\n",
    "  w = vetor(A, E)\n",
    "  return (modulo(w)**2 - modulo(projecao(w, v))**2)**(1/2)\n",
    "\n",
    "\n",
    "def ponto_de_projecao_reta(A, B, E):\n",
    "  v = vetor(A, B)\n",
    "  w = vetor(A, E)\n",
    "  return soma_vetor(A, projecao(w, v))\n",
    "\n",
    "def ponto_de_projecao_reta_vetorial(v, A, E):\n",
    "  w = vetor(A, E)\n",
    "  return soma_vetor(A, projecao(w, v))"
   ]
  },
  {
   "cell_type": "code",
   "execution_count": 6,
   "metadata": {
    "colab": {
     "base_uri": "https://localhost:8080/"
    },
    "id": "RsT4RnEzgdJy",
    "outputId": "239ff1b7-4ae5-44a3-be72-bc56b1b1cc1e"
   },
   "outputs": [
    {
     "ename": "NameError",
     "evalue": "name 'A' is not defined",
     "output_type": "error",
     "traceback": [
      "\u001b[1;31m---------------------------------------------------------------------------\u001b[0m",
      "\u001b[1;31mNameError\u001b[0m                                 Traceback (most recent call last)",
      "Cell \u001b[1;32mIn[6], line 1\u001b[0m\n\u001b[1;32m----> 1\u001b[0m w \u001b[38;5;241m=\u001b[39m vetor(\u001b[43mA\u001b[49m, E)\n\u001b[0;32m      2\u001b[0m normal \u001b[38;5;241m=\u001b[39m prod_vetorial(u, v)\n\u001b[0;32m      3\u001b[0m projecao(w, normal)\n",
      "\u001b[1;31mNameError\u001b[0m: name 'A' is not defined"
     ]
    }
   ],
   "source": [
    "w = vetor(A, E)\n",
    "normal = prod_vetorial(u, v)\n",
    "projecao(w, normal)"
   ]
  },
  {
   "cell_type": "code",
   "execution_count": null,
   "metadata": {
    "colab": {
     "base_uri": "https://localhost:8080/"
    },
    "id": "1eEoAmZseZLG",
    "outputId": "9e805472-f009-43a7-969b-57110ed1ba18"
   },
   "outputs": [
    {
     "data": {
      "text/plain": [
       "(1.1111111111111112, 1.1111111111111112, 0.5555555555555556)"
      ]
     },
     "execution_count": 53,
     "metadata": {},
     "output_type": "execute_result"
    }
   ],
   "source": [
    "10/9, 10/9, 5/9"
   ]
  },
  {
   "cell_type": "markdown",
   "metadata": {
    "id": "5nIWaebLdot3"
   },
   "source": []
  },
  {
   "cell_type": "code",
   "execution_count": null,
   "metadata": {
    "id": "46sf_KAiXmAX"
   },
   "outputs": [],
   "source": [
    "A = (1, 1, 1)\n",
    "B = (2, -1, 3)\n",
    "C = (-2, 4, 1)\n",
    "D = (1, 2, -1)\n",
    "E = (0, 3, 4)"
   ]
  },
  {
   "cell_type": "code",
   "execution_count": null,
   "metadata": {
    "colab": {
     "base_uri": "https://localhost:8080/"
    },
    "id": "evS3VRRlXmCt",
    "outputId": "838e6398-6435-447f-e1ce-1983a790d63b"
   },
   "outputs": [
    {
     "data": {
      "text/plain": [
       "([1, -2, 2], [4, -5, 2], 18, 9.0)"
      ]
     },
     "execution_count": 6,
     "metadata": {},
     "output_type": "execute_result"
    }
   ],
   "source": [
    "u = vetor(A, B)\n",
    "v = vetor(C, B)\n",
    "u, v, prod_escalar(u, v), modulo(prod_vetorial(u, v))"
   ]
  },
  {
   "cell_type": "code",
   "execution_count": null,
   "metadata": {
    "colab": {
     "base_uri": "https://localhost:8080/"
    },
    "id": "_PEuOMRzXmFF",
    "outputId": "50407ceb-fbbc-4595-dde4-6313c46f35d9"
   },
   "outputs": [
    {
     "name": "stdout",
     "output_type": "stream",
     "text": [
      "r(t) =  (1, 1, 1) + t(1, -2, 2)\n"
     ]
    },
    {
     "data": {
      "text/plain": [
       "(None, [3, -3, 5])"
      ]
     },
     "execution_count": 7,
     "metadata": {},
     "output_type": "execute_result"
    }
   ],
   "source": [
    "mostra_reta(A, B), reta(2, A, B)"
   ]
  },
  {
   "cell_type": "code",
   "execution_count": null,
   "metadata": {
    "colab": {
     "base_uri": "https://localhost:8080/"
    },
    "id": "K1yN6v_EXmHd",
    "outputId": "23090bec-6ece-4184-ba9a-e4a9b1a05160"
   },
   "outputs": [
    {
     "name": "stdout",
     "output_type": "stream",
     "text": [
      "6x + 6y + 3z = 15\n"
     ]
    }
   ],
   "source": [
    "mostra_plano(A, B, C)"
   ]
  },
  {
   "cell_type": "code",
   "execution_count": null,
   "metadata": {
    "id": "60LQ6BDqfQ5M"
   },
   "outputs": [],
   "source": []
  },
  {
   "cell_type": "code",
   "execution_count": null,
   "metadata": {
    "colab": {
     "base_uri": "https://localhost:8080/"
    },
    "id": "w9kFmRBQXmJ1",
    "outputId": "402e41fb-ad69-4b7e-ff23-8c9135e068a3"
   },
   "outputs": [
    {
     "data": {
      "text/plain": [
       "(True, False)"
      ]
     },
     "execution_count": 9,
     "metadata": {},
     "output_type": "execute_result"
    }
   ],
   "source": [
    "esta_no_plano(A, B, C, D), esta_no_plano(A, B, C, E)"
   ]
  },
  {
   "cell_type": "code",
   "execution_count": null,
   "metadata": {
    "colab": {
     "base_uri": "https://localhost:8080/"
    },
    "id": "_RnkzgnHMyNz",
    "outputId": "5927170a-06cf-4541-8e7d-7470b6650f73"
   },
   "outputs": [
    {
     "data": {
      "text/plain": [
       "([1.1111111111111112, 1.1111111111111112, 0.5555555555555556],\n",
       " (1.1111111111111112, 1.1111111111111112, 0.5555555555555556))"
      ]
     },
     "execution_count": 17,
     "metadata": {},
     "output_type": "execute_result"
    }
   ],
   "source": [
    "#XXXXXXXXXXXXXXXXXX\n",
    "#ponto_de_projecao(A, B, C, E),\n",
    "w = vetor(A, E)\n",
    "normal = prod_vetorial(u, v)\n",
    "projecao(w, normal), (10/9, 10/9, 5/9)"
   ]
  },
  {
   "cell_type": "code",
   "execution_count": null,
   "metadata": {
    "colab": {
     "base_uri": "https://localhost:8080/"
    },
    "id": "ERY-Q4CSNqWx",
    "outputId": "e55671bb-ea85-418a-929b-d3cab408707b"
   },
   "outputs": [
    {
     "data": {
      "text/plain": [
       "([-1.1111111111111112, 1.8888888888888888, 3.4444444444444446],\n",
       " (-1.1111111111111112, 1.8888888888888888, 3.4444444444444446))"
      ]
     },
     "execution_count": 21,
     "metadata": {},
     "output_type": "execute_result"
    }
   ],
   "source": [
    "ponto_de_projecao(A, B, C, E), (-10/9, 17/9, 31/9)"
   ]
  },
  {
   "cell_type": "code",
   "execution_count": null,
   "metadata": {
    "colab": {
     "base_uri": "https://localhost:8080/"
    },
    "id": "4AnC2pLdfR21",
    "outputId": "eee7d9f0-3a42-4f1c-f864-d5719d1cf3cd"
   },
   "outputs": [
    {
     "data": {
      "text/plain": [
       "(1.6666666666666667, 1.6666666666666667)"
      ]
     },
     "execution_count": 23,
     "metadata": {},
     "output_type": "execute_result"
    }
   ],
   "source": [
    "distancia_ponto_plano(A, B, C, E), modulo(projecao(w, normal))"
   ]
  },
  {
   "cell_type": "code",
   "execution_count": null,
   "metadata": {
    "colab": {
     "base_uri": "https://localhost:8080/"
    },
    "id": "Upp2Kcl8fRz-",
    "outputId": "6ae676e3-09cc-4e33-bb48-f49e21e78ef5"
   },
   "outputs": [
    {
     "data": {
      "text/plain": [
       "[0.711111111111111, 2.111111111111111, 4.355555555555556]"
      ]
     },
     "execution_count": 49,
     "metadata": {},
     "output_type": "execute_result"
    }
   ],
   "source": []
  },
  {
   "cell_type": "code",
   "execution_count": null,
   "metadata": {
    "colab": {
     "base_uri": "https://localhost:8080/"
    },
    "id": "OK5i6dMtfRxU",
    "outputId": "034d3d34-d1bd-4cc3-c66d-693403728e7b"
   },
   "outputs": [
    {
     "data": {
      "text/plain": [
       "(-1.1111111111111112, 1.8888888888888888, 3.4444444444444446)"
      ]
     },
     "execution_count": 54,
     "metadata": {},
     "output_type": "execute_result"
    }
   ],
   "source": [
    "-10/9, 17/9, 31/9"
   ]
  },
  {
   "cell_type": "code",
   "execution_count": null,
   "metadata": {
    "colab": {
     "base_uri": "https://localhost:8080/"
    },
    "id": "-p1ZqTIYfRpE",
    "outputId": "8470e5b6-d33c-45b3-a2e9-f66d8ebc1c6e"
   },
   "outputs": [
    {
     "data": {
      "text/plain": [
       "([1, -2, 2], [4, -5, 2], [5, -7, 4], [-3, 3, 0], [3, -3, 0])"
      ]
     },
     "execution_count": 58,
     "metadata": {},
     "output_type": "execute_result"
    }
   ],
   "source": [
    "u, v, soma_vetor(u, v), soma_vetor(u, v, '-'), soma_vetor(v, u, '-')"
   ]
  },
  {
   "cell_type": "code",
   "execution_count": null,
   "metadata": {
    "colab": {
     "base_uri": "https://localhost:8080/"
    },
    "id": "d_1dHOQ8dJtS",
    "outputId": "1da68788-8949-430d-e6fc-0287e3864cdc"
   },
   "outputs": [
    {
     "data": {
      "text/plain": [
       "([-0.23076923076923128, 1.1538461538461542, 4.0],\n",
       " (-0.23076923076923078, 1.1538461538461537, 4))"
      ]
     },
     "execution_count": 44,
     "metadata": {},
     "output_type": "execute_result"
    }
   ],
   "source": [
    "A = (3, -1, 4)\n",
    "E = (-1, 0, 1)\n",
    "v = (3, -2, 0)\n",
    "(-3, 2, 0)\n",
    "w = vetor(A, E)\n",
    "ponto_de_projecao_reta_vetorial(v, A, E), (-3/13, 15/13, 4)\n"
   ]
  },
  {
   "cell_type": "code",
   "execution_count": null,
   "metadata": {
    "colab": {
     "base_uri": "https://localhost:8080/"
    },
    "id": "h7KUlNd8dJqT",
    "outputId": "8f4968d3-96b4-4327-c12b-0783e1bf4147"
   },
   "outputs": [
    {
     "data": {
      "text/plain": [
       "(True, False)"
      ]
     },
     "execution_count": 46,
     "metadata": {},
     "output_type": "execute_result"
    }
   ],
   "source": [
    "a, b, c, k = 2, -3, 1, 6\n",
    "P = (1, -2, -2)\n",
    "Q = (5, -6, 0)\n",
    "\n",
    "esta_no_plano_eq_geral(a, b, c, k, P), esta_no_plano_eq_geral(a, b, c, k, Q)"
   ]
  },
  {
   "cell_type": "code",
   "execution_count": null,
   "metadata": {
    "id": "34uMjGdUdJnS"
   },
   "outputs": [],
   "source": []
  },
  {
   "cell_type": "code",
   "execution_count": null,
   "metadata": {
    "id": "G2e4ChQFdJkq"
   },
   "outputs": [],
   "source": []
  }
 ],
 "metadata": {
  "colab": {
   "provenance": []
  },
  "kernelspec": {
   "display_name": "Python 3",
   "name": "python3"
  },
  "language_info": {
   "codemirror_mode": {
    "name": "ipython",
    "version": 3
   },
   "file_extension": ".py",
   "mimetype": "text/x-python",
   "name": "python",
   "nbconvert_exporter": "python",
   "pygments_lexer": "ipython3",
   "version": "3.11.9"
  }
 },
 "nbformat": 4,
 "nbformat_minor": 0
}
